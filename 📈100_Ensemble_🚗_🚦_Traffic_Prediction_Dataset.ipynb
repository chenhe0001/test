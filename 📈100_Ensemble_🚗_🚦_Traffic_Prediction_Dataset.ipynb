{
  "metadata": {
    "kernelspec": {
      "display_name": "Python 3",
      "language": "python",
      "name": "python3"
    },
    "language_info": {
      "codemirror_mode": {
        "name": "ipython",
        "version": 3
      },
      "file_extension": ".py",
      "mimetype": "text/x-python",
      "name": "python",
      "nbconvert_exporter": "python",
      "pygments_lexer": "ipython3",
      "version": "3.10.12"
    },
    "papermill": {
      "default_parameters": {},
      "duration": 52.378142,
      "end_time": "2023-10-28T07:38:43.922781",
      "environment_variables": {},
      "exception": null,
      "input_path": "__notebook__.ipynb",
      "output_path": "__notebook__.ipynb",
      "parameters": {},
      "start_time": "2023-10-28T07:37:51.544639",
      "version": "2.4.0"
    },
    "kaggle": {
      "accelerator": "gpu",
      "dataSources": [
        {
          "sourceId": 7133957,
          "sourceType": "datasetVersion",
          "datasetId": 3860551
        }
      ],
      "dockerImageVersionId": 30558,
      "isInternetEnabled": true,
      "language": "python",
      "sourceType": "notebook",
      "isGpuEnabled": true
    },
    "colab": {
      "name": "📈100% Ensemble 🚗 🚦 Traffic Prediction Dataset ",
      "provenance": [],
      "include_colab_link": true
    }
  },
  "nbformat_minor": 0,
  "nbformat": 4,
  "cells": [
    {
      "cell_type": "markdown",
      "metadata": {
        "id": "view-in-github",
        "colab_type": "text"
      },
      "source": [
        "<a href=\"https://colab.research.google.com/github/chenhe0001/test/blob/main/%F0%9F%93%88100_Ensemble_%F0%9F%9A%97_%F0%9F%9A%A6_Traffic_Prediction_Dataset.ipynb\" target=\"_parent\"><img src=\"https://colab.research.google.com/assets/colab-badge.svg\" alt=\"Open In Colab\"/></a>"
      ]
    },
    {
      "source": [
        "# IMPORTANT: RUN THIS CELL IN ORDER TO IMPORT YOUR KAGGLE DATA SOURCES,\n",
        "# THEN FEEL FREE TO DELETE THIS CELL.\n",
        "# NOTE: THIS NOTEBOOK ENVIRONMENT DIFFERS FROM KAGGLE'S PYTHON\n",
        "# ENVIRONMENT SO THERE MAY BE MISSING LIBRARIES USED BY YOUR\n",
        "# NOTEBOOK.\n",
        "import kagglehub\n",
        "hasibullahaman_traffic_prediction_dataset_path = kagglehub.dataset_download('hasibullahaman/traffic-prediction-dataset')\n",
        "\n",
        "print('Data source import complete.')\n"
      ],
      "metadata": {
        "id": "DgB6sEzX6syI"
      },
      "cell_type": "code",
      "outputs": [],
      "execution_count": null
    },
    {
      "cell_type": "markdown",
      "source": [
        "<div style=\"border-radius:10px;border:#B7B7A4 solid;padding:15px;background-color:#F0EFEB;font-size:110%;text-align:left\">\n",
        "\n",
        "<a id=toc></a>\n",
        "<h1 style=\"padding: 35px;color:white;margin:10;font-size:200%;text-align:center;display:fill;border-radius:10px;overflow:hidden;background-image: url(https://i.postimg.cc/j2bBmHWx/Py-Torch-Gradient.jpg); background-size: 100% auto;background-position: 0px 0px;\n",
        "\"><span style='color:white'><b> Traffic Prediction Dataset :📈100% Ensemble 🚗 🚦 Traffic Prediction Dataset</b></span></h1>\n",
        "\n",
        "## <center>If you feel my notebook helpful, support with one upvote, thank you</center>\n",
        "## <center>Created by Mr.Tao  2/11/2023👍</center>"
      ],
      "metadata": {
        "papermill": {
          "duration": 0.020439,
          "end_time": "2023-10-28T07:37:55.464744",
          "exception": false,
          "start_time": "2023-10-28T07:37:55.444305",
          "status": "completed"
        },
        "tags": [],
        "id": "Ns7uI8vS6syL"
      }
    },
    {
      "cell_type": "markdown",
      "source": [
        "# <span style=\"color: #2E8B57;\">📁 About the Dataset</span>\n",
        "\n",
        "Traffic congestion and related problems are a common concern in urban areas. Understanding traffic patterns and analyzing data can provide valuable insights for transportation planning, infrastructure development, and congestion management.\n",
        "\n",
        "## <span style=\"color: #4682B4;\">What exactly is this dataset and how was it created?</span>\n",
        "\n",
        "it is a valuable resource for studying traffic conditions as it contains information collected by a computer vision model. The model detects four classes of vehicles: cars, bikes, buses, and trucks. The dataset is stored in a CSV file and includes additional columns such as time in hours, date, days of the week, and counts for each vehicle type (CarCount, BikeCount, BusCount, TruckCount). The \"Total\" column represents the total count of all vehicle types detected within a 15-minute duration.\n",
        "\n",
        "The dataset is updated every 15 minutes, providing a comprehensive view of traffic patterns over the course of one month. Additionally, the dataset includes a column indicating the traffic situation categorized into four classes: 1-Heavy, 2-High, 3-Normal, and 4-Low. This information can help assess the severity of congestion and monitor traffic conditions at different times and days of the week.\n",
        "\n",
        "### <span style=\"color: #6A5ACD;\">In what cases can it be useful?</span>\n",
        "\n",
        "The dataset is useful in transportation planning, congestion management, and traffic flow analysis. It helps understand vehicle demand, identify congested areas, and inform infrastructure improvements. The dataset enables targeted interventions like signal optimizations and lane adjustments. It allows researchers to study traffic patterns by hour, day, or specific dates and explore correlations with external factors. It supports transportation research on vehicle relationships and traffic behavior. Urban planners can assess traffic impact for zoning and infrastructure decisions. Overall, the dataset empowers stakeholders to make data-driven decisions, enhance urban mobility, and create efficient and sustainable cities.\n",
        "\n",
        "### <span style=\"color: #FF6347;\">Is there a new update?</span>\n",
        "\n",
        "Yes, in the next update, the dataset will be expanded to include the speed of the cars. Additionally, the data will not be limited to a single route; instead, it will encompass a traffic intersection. This expansion aims to provide a more comprehensive understanding of traffic dynamics and enable better analysis and decision-making for traffic management. The inclusion of speed data will offer insights into the flow and efficiency of vehicles, further enhancing the dataset's value for transportation planning and congestion management efforts.\n",
        "\n",
        "Thanks.\n"
      ],
      "metadata": {
        "id": "B-6Fm1BZ6syN"
      }
    },
    {
      "cell_type": "markdown",
      "source": [
        "<div style=\"border-radius: 10px; border: 1px solid #B7B7A4; padding: 20px; background-color: #F9F9F9; font-size: 110%; text-align: left; box-shadow: 0 4px 8px rgba(0,0,0,0.1);\">\n",
        "    <h1 style=\"display: inline-block; padding: 10px 20px; background-color: #B7B7A4; color: #F0EFEB; text-decoration: none; border-radius: 5px; font-size: 160%; text-align: left; border: 1.5px solid #B7B7A4; font-family: 'Times New Roman', serif; margin-bottom: 20px;\">\n",
        "        Table of Contents\n",
        "    </h1>\n",
        "    <p style=\"margin: 0;\">\n",
        "        <a id=\"toc\"></a>\n",
        "        <ul style=\"list-style: none; padding: 0;\">\n",
        "            <li style=\"margin-bottom: 10px;\"><a href=\"#1\" style=\"color: #2E8B57; text-decoration: none;\">1. Import Libraries</a></li>\n",
        "            <li style=\"margin-bottom: 10px;\"><a href=\"#2\" style=\"color: #2E8B57; text-decoration: none;\">2. Read Dataset</a></li>\n",
        "            <li style=\"margin-bottom: 10px;\"><a href=\"#3\" style=\"color: #2E8B57; text-decoration: none;\">3. Visualization</a></li>\n",
        "            <li style=\"margin-bottom: 10px;\"><a href=\"#4\" style=\"color: #2E8B57; text-decoration: none;\">4. Preprocessing</a></li>\n",
        "            <li style=\"margin-bottom: 10px;\"><a href=\"#5\" style=\"color: #2E8B57; text-decoration: none;\">5. Feature Selection</a></li>\n",
        "            <li style=\"margin-bottom: 10px;\"><a href=\"#6\" style=\"color: #2E8B57; text-decoration: none;\">6. Target Distribution</a></li>\n",
        "            <li style=\"margin-bottom: 10px;\"><a href=\"#7\" style=\"color: #2E8B57; text-decoration: none;\">7. Split Dataset</a></li>\n",
        "            <li style=\"margin-bottom: 10px;\"><a href=\"#8\" style=\"color: #2E8B57; text-decoration: none;\">8. Voting Classifier</a></li>\n",
        "            <li style=\"margin-bottom: 10px;\"><a href=\"#9\" style=\"color: #2E8B57; text-decoration: none;\">9. Stacking Classifier</a></li>\n",
        "            <li style=\"margin-bottom: 10px;\"><a href=\"#10\" style=\"color: #2E8B57; text-decoration: none;\">10. Predict Test Data</a></li>\n",
        "            <li style=\"margin-bottom: 10px;\"><a href=\"#11\" style=\"color: #2E8B57; text-decoration: none;\">11. Accuracy</a></li>\n",
        "        </ul>\n",
        "    </p>\n",
        "</div>"
      ],
      "metadata": {
        "papermill": {
          "duration": 0.018769,
          "end_time": "2023-10-28T07:37:55.502865",
          "exception": false,
          "start_time": "2023-10-28T07:37:55.484096",
          "status": "completed"
        },
        "tags": [],
        "id": "N4rrDuiQ6syO"
      }
    },
    {
      "cell_type": "markdown",
      "source": [
        "<a id=\"1\"></a>\n",
        "# **<center><span style=\"color:#005dc4;\">Import Libraries</span></center>**"
      ],
      "metadata": {
        "papermill": {
          "duration": 0.019005,
          "end_time": "2023-10-28T07:37:55.579814",
          "exception": false,
          "start_time": "2023-10-28T07:37:55.560809",
          "status": "completed"
        },
        "tags": [],
        "id": "97SgJEKI6syO"
      }
    },
    {
      "cell_type": "code",
      "source": [
        "import pandas as pd\n",
        "import numpy as np\n",
        "import seaborn as sns\n",
        "import os\n",
        "%matplotlib inline\n",
        "from IPython.display import display, HTML\n",
        "\n",
        "import matplotlib.pyplot as plt\n",
        "import matplotlib.pyplot as plotter\n",
        "from sklearn.model_selection import cross_val_score\n",
        "from sklearn import metrics\n",
        "from sklearn.base import BaseEstimator, TransformerMixin, ClassifierMixin, clone\n",
        "from sklearn.model_selection import KFold\n",
        "from scipy import stats\n",
        "from scipy.stats import norm, skew\n",
        "from sklearn.model_selection import train_test_split\n",
        "from sklearn.metrics import confusion_matrix, accuracy_score\n",
        "from sklearn.feature_selection import SelectFromModel\n",
        "from sklearn.metrics import classification_report\n",
        "import warnings\n",
        "warnings.filterwarnings('ignore')\n"
      ],
      "metadata": {
        "papermill": {
          "duration": 3.012583,
          "end_time": "2023-10-28T07:37:58.611513",
          "exception": false,
          "start_time": "2023-10-28T07:37:55.59893",
          "status": "completed"
        },
        "tags": [],
        "execution": {
          "iopub.status.busy": "2024-08-28T09:25:42.141775Z",
          "iopub.execute_input": "2024-08-28T09:25:42.142461Z",
          "iopub.status.idle": "2024-08-28T09:25:42.152147Z",
          "shell.execute_reply.started": "2024-08-28T09:25:42.142421Z",
          "shell.execute_reply": "2024-08-28T09:25:42.151192Z"
        },
        "trusted": true,
        "id": "rVX20lhv6syO"
      },
      "execution_count": null,
      "outputs": []
    },
    {
      "cell_type": "markdown",
      "source": [
        "<h5><span style=\"align:left; color:black; font-weight:550; font-size:110%\">\n",
        "    ➡️At first, we import nessesary python liblaries.\n",
        "</span></h5>"
      ],
      "metadata": {
        "id": "yZ_xCjc86syP"
      }
    },
    {
      "cell_type": "markdown",
      "source": [
        "<a id=\"2\"></a>\n",
        "# **<center><span style=\"color:#005dc4;\">Read Dataset</span></center>**"
      ],
      "metadata": {
        "papermill": {
          "duration": 0.01955,
          "end_time": "2023-10-28T07:37:58.650815",
          "exception": false,
          "start_time": "2023-10-28T07:37:58.631265",
          "status": "completed"
        },
        "tags": [],
        "id": "2Iqixv3E6syP"
      }
    },
    {
      "cell_type": "code",
      "source": [
        "train = pd.read_csv('/kaggle/input/traffic-prediction-dataset/Traffic.csv')\n",
        "train"
      ],
      "metadata": {
        "papermill": {
          "duration": 0.181412,
          "end_time": "2023-10-28T07:37:58.852036",
          "exception": false,
          "start_time": "2023-10-28T07:37:58.670624",
          "status": "completed"
        },
        "tags": [],
        "execution": {
          "iopub.status.busy": "2024-08-28T09:25:42.153934Z",
          "iopub.execute_input": "2024-08-28T09:25:42.154536Z",
          "iopub.status.idle": "2024-08-28T09:25:42.1845Z",
          "shell.execute_reply.started": "2024-08-28T09:25:42.154496Z",
          "shell.execute_reply": "2024-08-28T09:25:42.183624Z"
        },
        "trusted": true,
        "id": "JPyr4dxr6syP"
      },
      "execution_count": null,
      "outputs": []
    },
    {
      "cell_type": "markdown",
      "source": [
        "<h5><span style=\"align:left; color:black; font-weight:550; font-size:110%%\">\n",
        "    ➡️ Here, we import data from a csv file, with pandas\n",
        "</span></h5>"
      ],
      "metadata": {
        "id": "jf07cBlW6syQ"
      }
    },
    {
      "cell_type": "code",
      "source": [
        "train, test = train_test_split(train,test_size=0.1,random_state=1992)\n",
        "print(\"Shape of train: \",train.shape)\n",
        "print(\"Shape of test\",test.shape)"
      ],
      "metadata": {
        "execution": {
          "iopub.status.busy": "2024-08-28T09:25:42.185996Z",
          "iopub.execute_input": "2024-08-28T09:25:42.186308Z",
          "iopub.status.idle": "2024-08-28T09:25:42.193373Z",
          "shell.execute_reply.started": "2024-08-28T09:25:42.186281Z",
          "shell.execute_reply": "2024-08-28T09:25:42.192473Z"
        },
        "trusted": true,
        "id": "FJQzHpRy6syQ"
      },
      "execution_count": null,
      "outputs": []
    },
    {
      "cell_type": "markdown",
      "source": [
        "<h5><span style=\"align:left; color:black; font-weight:550; font-size:110%%\">\n",
        "    ➡️ before the data is processed ,Split train data and test data ,The accuracy of the final prediction is more realistic.\n",
        "</span></h5>"
      ],
      "metadata": {
        "id": "RMp3FRo96syQ"
      }
    },
    {
      "cell_type": "markdown",
      "source": [
        "<a id=\"3\"></a>\n",
        "# **<center><span style=\"color:#005dc4;\">Visualization</span></center>**"
      ],
      "metadata": {
        "papermill": {
          "duration": 0.022567,
          "end_time": "2023-10-28T07:37:59.033566",
          "exception": false,
          "start_time": "2023-10-28T07:37:59.010999",
          "status": "completed"
        },
        "tags": [],
        "id": "BRxiIHr-6syQ"
      }
    },
    {
      "cell_type": "code",
      "source": [
        "train.isnull().sum()"
      ],
      "metadata": {
        "papermill": {
          "duration": 0.03486,
          "end_time": "2023-10-28T07:37:59.092227",
          "exception": false,
          "start_time": "2023-10-28T07:37:59.057367",
          "status": "completed"
        },
        "tags": [],
        "execution": {
          "iopub.status.busy": "2024-08-28T09:25:42.194472Z",
          "iopub.execute_input": "2024-08-28T09:25:42.194793Z",
          "iopub.status.idle": "2024-08-28T09:25:42.205025Z",
          "shell.execute_reply.started": "2024-08-28T09:25:42.194741Z",
          "shell.execute_reply": "2024-08-28T09:25:42.204128Z"
        },
        "trusted": true,
        "id": "Lk-bEqca6syQ"
      },
      "execution_count": null,
      "outputs": []
    },
    {
      "cell_type": "code",
      "source": [
        "test.isnull().sum()"
      ],
      "metadata": {
        "papermill": {
          "duration": 0.037206,
          "end_time": "2023-10-28T07:37:59.152142",
          "exception": false,
          "start_time": "2023-10-28T07:37:59.114936",
          "status": "completed"
        },
        "tags": [],
        "execution": {
          "iopub.status.busy": "2024-08-28T09:25:42.207031Z",
          "iopub.execute_input": "2024-08-28T09:25:42.207309Z",
          "iopub.status.idle": "2024-08-28T09:25:42.217521Z",
          "shell.execute_reply.started": "2024-08-28T09:25:42.207285Z",
          "shell.execute_reply": "2024-08-28T09:25:42.216727Z"
        },
        "trusted": true,
        "id": "FnUn0Wsj6syQ"
      },
      "execution_count": null,
      "outputs": []
    },
    {
      "cell_type": "markdown",
      "source": [
        "<h5><span style=\"align:left; color:black; font-weight:550; font-size:110%\">\n",
        "    ➡️ train and test dataset is no Missing values in DataFrame. 👍\n",
        "</span></h5>"
      ],
      "metadata": {
        "id": "5m4JY_fN6syQ"
      }
    },
    {
      "cell_type": "code",
      "source": [
        "print('train')\n",
        "display(train.info())\n",
        "print('test')\n",
        "display(test.info())"
      ],
      "metadata": {
        "execution": {
          "iopub.status.busy": "2024-08-28T09:25:42.218437Z",
          "iopub.execute_input": "2024-08-28T09:25:42.218685Z",
          "iopub.status.idle": "2024-08-28T09:25:42.243623Z",
          "shell.execute_reply.started": "2024-08-28T09:25:42.218647Z",
          "shell.execute_reply": "2024-08-28T09:25:42.242634Z"
        },
        "trusted": true,
        "id": "n1oHCwnZ6syQ"
      },
      "execution_count": null,
      "outputs": []
    },
    {
      "cell_type": "markdown",
      "source": [
        "<h5><span style=\"align:left; color:black; font-weight:550; font-size:110%\">\n",
        "    ➡️ train and test dataset are no-null values.\n",
        "</span></h5>\n",
        "<h5><span style=\"align:left; color:black; font-weight:550; font-size:110%\">\n",
        "    ➡️ We also can see that 「Time」、「Day of the week」、「Traffic Situation」 are object and must do the conversion.\n",
        "</span></h5>"
      ],
      "metadata": {
        "id": "z3IW1VYz6syR"
      }
    },
    {
      "cell_type": "code",
      "source": [
        "sns.histplot(train, x=\"Time\", hue=\"Traffic Situation\", element=\"step\")"
      ],
      "metadata": {
        "execution": {
          "iopub.status.busy": "2024-08-28T09:25:42.245029Z",
          "iopub.execute_input": "2024-08-28T09:25:42.245262Z",
          "iopub.status.idle": "2024-08-28T09:25:43.941023Z",
          "shell.execute_reply.started": "2024-08-28T09:25:42.245239Z",
          "shell.execute_reply": "2024-08-28T09:25:43.940141Z"
        },
        "trusted": true,
        "id": "p6mWJp3e6syR"
      },
      "execution_count": null,
      "outputs": []
    },
    {
      "cell_type": "code",
      "source": [
        "sns.histplot(train, x=\"Date\", hue=\"Traffic Situation\", bins=30)"
      ],
      "metadata": {
        "execution": {
          "iopub.status.busy": "2024-08-28T09:25:43.942189Z",
          "iopub.execute_input": "2024-08-28T09:25:43.942517Z",
          "iopub.status.idle": "2024-08-28T09:25:44.635795Z",
          "shell.execute_reply.started": "2024-08-28T09:25:43.942488Z",
          "shell.execute_reply": "2024-08-28T09:25:44.634833Z"
        },
        "trusted": true,
        "id": "DRus88SL6syR"
      },
      "execution_count": null,
      "outputs": []
    },
    {
      "cell_type": "code",
      "source": [
        "# Create a count plot to show the distribution of traffic situations by day of the week\n",
        "sns.catplot(\n",
        "    data=train,\n",
        "    x='Day of the week',        # X-axis represents the day of the week\n",
        "    hue='Traffic Situation',    # Color by traffic situation\n",
        "    kind='count',               # Use count plot to show the number of occurrences\n",
        "    palette='tab10',            # Select a color palette\n",
        "    height=6,                   # Set the height of the plot\n",
        "    aspect=2                    # Set the aspect ratio (width/height)\n",
        ")\n",
        "\n",
        "# Add title and labels to the plot\n",
        "plt.title('Distribution of Traffic Situation by Day of the Week')\n",
        "plt.xlabel('Day of the Week')\n",
        "plt.ylabel('Count')\n",
        "plt.xticks(rotation=45)        # Rotate x-axis labels for better readability\n",
        "plt.legend(title='Traffic Situation')  # Add legend with title\n",
        "plt.show()                    # Display the plot\n"
      ],
      "metadata": {
        "execution": {
          "iopub.status.busy": "2024-08-28T09:25:44.638222Z",
          "iopub.execute_input": "2024-08-28T09:25:44.638504Z",
          "iopub.status.idle": "2024-08-28T09:25:45.409573Z",
          "shell.execute_reply.started": "2024-08-28T09:25:44.638478Z",
          "shell.execute_reply": "2024-08-28T09:25:45.408601Z"
        },
        "trusted": true,
        "id": "5_ax9kBy6syR"
      },
      "execution_count": null,
      "outputs": []
    },
    {
      "cell_type": "code",
      "source": [
        "sns.histplot(train,x='CarCount',hue='Traffic Situation',kde=True)"
      ],
      "metadata": {
        "execution": {
          "iopub.status.busy": "2024-08-28T09:25:45.412576Z",
          "iopub.execute_input": "2024-08-28T09:25:45.412892Z",
          "iopub.status.idle": "2024-08-28T09:25:46.003934Z",
          "shell.execute_reply.started": "2024-08-28T09:25:45.412864Z",
          "shell.execute_reply": "2024-08-28T09:25:46.003081Z"
        },
        "trusted": true,
        "id": "YgL55Q8k6syR"
      },
      "execution_count": null,
      "outputs": []
    },
    {
      "cell_type": "code",
      "source": [
        "sns.histplot(train,x='BikeCount',hue='Traffic Situation',kde=True)"
      ],
      "metadata": {
        "execution": {
          "iopub.status.busy": "2024-08-28T09:25:46.004946Z",
          "iopub.execute_input": "2024-08-28T09:25:46.005194Z",
          "iopub.status.idle": "2024-08-28T09:25:46.721862Z",
          "shell.execute_reply.started": "2024-08-28T09:25:46.005169Z",
          "shell.execute_reply": "2024-08-28T09:25:46.720956Z"
        },
        "trusted": true,
        "id": "gTF9fbwG6syR"
      },
      "execution_count": null,
      "outputs": []
    },
    {
      "cell_type": "code",
      "source": [
        "sns.histplot(train,x='BusCount',hue='Traffic Situation',kde=True)"
      ],
      "metadata": {
        "execution": {
          "iopub.status.busy": "2024-08-28T09:25:46.723197Z",
          "iopub.execute_input": "2024-08-28T09:25:46.723571Z",
          "iopub.status.idle": "2024-08-28T09:25:47.786602Z",
          "shell.execute_reply.started": "2024-08-28T09:25:46.723535Z",
          "shell.execute_reply": "2024-08-28T09:25:47.785735Z"
        },
        "trusted": true,
        "id": "uexLLdFL6syR"
      },
      "execution_count": null,
      "outputs": []
    },
    {
      "cell_type": "code",
      "source": [
        "sns.histplot(train,x='TruckCount',hue='Traffic Situation',kde=True)"
      ],
      "metadata": {
        "execution": {
          "iopub.status.busy": "2024-08-28T09:25:47.787674Z",
          "iopub.execute_input": "2024-08-28T09:25:47.787941Z",
          "iopub.status.idle": "2024-08-28T09:25:48.429368Z",
          "shell.execute_reply.started": "2024-08-28T09:25:47.787916Z",
          "shell.execute_reply": "2024-08-28T09:25:48.428434Z"
        },
        "trusted": true,
        "id": "sLHJt1Oa6syR"
      },
      "execution_count": null,
      "outputs": []
    },
    {
      "cell_type": "code",
      "source": [
        "sns.histplot(train,x='Total',hue='Traffic Situation',kde=True)"
      ],
      "metadata": {
        "execution": {
          "iopub.status.busy": "2024-08-28T09:25:48.430587Z",
          "iopub.execute_input": "2024-08-28T09:25:48.430898Z",
          "iopub.status.idle": "2024-08-28T09:25:49.034543Z",
          "shell.execute_reply.started": "2024-08-28T09:25:48.430871Z",
          "shell.execute_reply": "2024-08-28T09:25:49.033621Z"
        },
        "trusted": true,
        "id": "arisrSs36syR"
      },
      "execution_count": null,
      "outputs": []
    },
    {
      "cell_type": "markdown",
      "source": [
        "<h5><span style=\"align:left; color:black; font-weight:550; font-size:110%\">\n",
        "    ➡️ Visualize the relationship between each feature and target.\n",
        "</span></h5>"
      ],
      "metadata": {
        "id": "Eo0CQ_ky6syR"
      }
    },
    {
      "cell_type": "markdown",
      "source": [
        "<a id=\"4\"></a>\n",
        "# **<center><span style=\"color:#005dc4;\">Preprocessing</span></center>**"
      ],
      "metadata": {
        "papermill": {
          "duration": 0.038827,
          "end_time": "2023-10-28T07:38:08.055391",
          "exception": false,
          "start_time": "2023-10-28T07:38:08.016564",
          "status": "completed"
        },
        "tags": [],
        "id": "UnGSGC_D6syR"
      }
    },
    {
      "cell_type": "code",
      "source": [
        "plt.subplot(1, 3, 1)\n",
        "sns.countplot(x = train[\"Day of the week\"])\n",
        "plotter.xticks(rotation = 90);\n",
        "\n",
        "plt.subplot(1, 3, 3)\n",
        "sns.countplot(x = train[\"Traffic Situation\"])\n",
        "plotter.xticks(rotation = 90);\n",
        "plt.show()"
      ],
      "metadata": {
        "execution": {
          "iopub.status.busy": "2024-08-28T09:25:49.035935Z",
          "iopub.execute_input": "2024-08-28T09:25:49.036376Z",
          "iopub.status.idle": "2024-08-28T09:25:49.463384Z",
          "shell.execute_reply.started": "2024-08-28T09:25:49.036339Z",
          "shell.execute_reply": "2024-08-28T09:25:49.462438Z"
        },
        "trusted": true,
        "id": "TQMbmoWZ6syR"
      },
      "execution_count": null,
      "outputs": []
    },
    {
      "cell_type": "code",
      "source": [
        "df_temp=train\n",
        "df_temp['Day of the week'] = df_temp['Day of the week'].replace({'Monday':1,'Tuesday':2,'Wednesday':3,'Thursday':4,'Friday':5,'Saturday': 6,'Sunday':7})\n",
        "df_temp['Traffic Situation'] = df_temp['Traffic Situation'].replace({'low': 0,'normal': 1,'high': 2, 'heavy':3})\n",
        "train=df_temp\n",
        "train"
      ],
      "metadata": {
        "execution": {
          "iopub.status.busy": "2024-08-28T09:25:49.464489Z",
          "iopub.execute_input": "2024-08-28T09:25:49.464749Z",
          "iopub.status.idle": "2024-08-28T09:25:49.487844Z",
          "shell.execute_reply.started": "2024-08-28T09:25:49.464725Z",
          "shell.execute_reply": "2024-08-28T09:25:49.486876Z"
        },
        "trusted": true,
        "id": "_hkWgRIb6syR"
      },
      "execution_count": null,
      "outputs": []
    },
    {
      "cell_type": "markdown",
      "source": [
        "<a id=\"5\"></a>\n",
        "# **<center><span style=\"color:#005dc4;\">Feature Selection</span></center>**"
      ],
      "metadata": {
        "id": "LVk8Z88I6syS"
      }
    },
    {
      "cell_type": "code",
      "source": [
        "train_temp=train\n",
        "\n",
        "from sklearn.preprocessing import LabelEncoder\n",
        "le = LabelEncoder()\n",
        "train_temp['Time'] = le.fit_transform(train_temp['Time'])\n",
        "\n",
        "corr = train_temp.corr(method='pearson')\n",
        "fig, ax = plt.subplots(figsize=(20, 20))\n",
        "sns.heatmap(corr, cmap='RdBu', annot=True, fmt=\".2f\")\n",
        "plt.xticks(range(len(corr.columns)), corr.columns);\n",
        "plt.yticks(range(len(corr.columns)), corr.columns)\n",
        "plt.show()"
      ],
      "metadata": {
        "execution": {
          "iopub.status.busy": "2024-08-28T09:25:49.489145Z",
          "iopub.execute_input": "2024-08-28T09:25:49.489516Z",
          "iopub.status.idle": "2024-08-28T09:25:50.217457Z",
          "shell.execute_reply.started": "2024-08-28T09:25:49.489482Z",
          "shell.execute_reply": "2024-08-28T09:25:50.216469Z"
        },
        "trusted": true,
        "id": "zZT5J_VE6syS"
      },
      "execution_count": null,
      "outputs": []
    },
    {
      "cell_type": "markdown",
      "source": [
        "<h5><span style=\"align:left; color:black; font-weight:500; font-size:110%\">\n",
        "    ➡️ We use Heatmap to find relations between features.\n",
        "</span></h5>\n",
        "    \n",
        "<h3 style=\"font-weight:700\">Most related features :</h3>\n",
        "<ul><span style=\"color:green; font-weight:600\"> Total : 0.82</span></ul>\n",
        "<ul><span style=\"color:red; font-weight:600\"> TruckCount : -0.32</span></ul>"
      ],
      "metadata": {
        "id": "vKPJULja6syS"
      }
    },
    {
      "cell_type": "code",
      "source": [
        "from xgboost import XGBClassifier\n",
        "X_data_feature= train.drop(columns=['Traffic Situation'],axis=1)\n",
        "y_data_feature= train['Traffic Situation']\n",
        "\n",
        "model = [XGBClassifier()]\n",
        "\n",
        "model = [model[i].fit(X_data_feature,y_data_feature) for i in range(len(model))]\n",
        "\n",
        "num_chr = [12, 12, 10]\n",
        "\n",
        "for i in range(len(model)):\n",
        "    print(str(model[i])[:num_chr[i]] + ': \\n',\n",
        "          model[i].feature_importances_)\n",
        "    feat_importances = pd.Series(model[i].feature_importances_,\n",
        "                                 index=X_data_feature.columns)\n",
        "    feat_importances.nlargest(10).plot(kind='barh', color='royalblue')\n",
        "    plt.xlim(0, 1.0)\n",
        "    plt.show()"
      ],
      "metadata": {
        "execution": {
          "iopub.status.busy": "2024-08-28T09:25:50.223976Z",
          "iopub.execute_input": "2024-08-28T09:25:50.224255Z",
          "iopub.status.idle": "2024-08-28T09:25:50.744021Z",
          "shell.execute_reply.started": "2024-08-28T09:25:50.22423Z",
          "shell.execute_reply": "2024-08-28T09:25:50.743094Z"
        },
        "trusted": true,
        "id": "CHDH2nDA6syS"
      },
      "execution_count": null,
      "outputs": []
    },
    {
      "cell_type": "code",
      "source": [
        "import lightgbm as lgb\n",
        "from lightgbm import LGBMClassifier\n",
        "\n",
        "model = [LGBMClassifier()]\n",
        "\n",
        "model = [model[i].fit(X_data_feature,y_data_feature) for i in range(len(model))]\n",
        "\n",
        "num_chr = [12, 12, 10]\n",
        "\n",
        "for i in range(len(model)):\n",
        "    print(str(model[i])[:num_chr[i]] + ': \\n',\n",
        "          model[i].feature_importances_)\n",
        "    feat_importances = pd.Series(model[i].feature_importances_,\n",
        "                                 index=X_data_feature.columns)\n",
        "    feat_importances.nlargest(10).plot(kind='barh', color='royalblue')\n",
        "    plt.xlim(0, 4500)\n",
        "    plt.show()"
      ],
      "metadata": {
        "execution": {
          "iopub.status.busy": "2024-08-28T09:25:50.745398Z",
          "iopub.execute_input": "2024-08-28T09:25:50.74602Z",
          "iopub.status.idle": "2024-08-28T09:25:51.339643Z",
          "shell.execute_reply.started": "2024-08-28T09:25:50.745982Z",
          "shell.execute_reply": "2024-08-28T09:25:51.338772Z"
        },
        "trusted": true,
        "id": "HyVlFMln6syS"
      },
      "execution_count": null,
      "outputs": []
    },
    {
      "cell_type": "code",
      "source": [
        "from catboost import CatBoostClassifier\n",
        "\n",
        "model = [CatBoostClassifier(logging_level='Silent')]\n",
        "\n",
        "model = [model[i].fit(X_data_feature,y_data_feature) for i in range(len(model))]\n",
        "\n",
        "num_chr = [12, 12, 10]\n",
        "\n",
        "for i in range(len(model)):\n",
        "    print(str(model[i])[:num_chr[i]] + ': \\n',\n",
        "          model[i].feature_importances_)\n",
        "    feat_importances = pd.Series(model[i].feature_importances_,\n",
        "                                 index=X_data_feature.columns)\n",
        "    feat_importances.nlargest(10).plot(kind='barh', color='royalblue')\n",
        "    plt.xlim(0, 40)\n",
        "    plt.show()"
      ],
      "metadata": {
        "execution": {
          "iopub.status.busy": "2024-08-28T09:25:51.340987Z",
          "iopub.execute_input": "2024-08-28T09:25:51.34135Z",
          "iopub.status.idle": "2024-08-28T09:25:54.66474Z",
          "shell.execute_reply.started": "2024-08-28T09:25:51.341313Z",
          "shell.execute_reply": "2024-08-28T09:25:54.663865Z"
        },
        "trusted": true,
        "id": "Y4kU5oXB6syS"
      },
      "execution_count": null,
      "outputs": []
    },
    {
      "cell_type": "markdown",
      "source": [
        "<h5><span style=\"align:left; color:black; font-weight:500; font-size:110%\">\n",
        "    ➡️ To summarize the above three features important to judge, 「Day of the week」and「Date」columns can be removed.\n",
        "</span></h5>"
      ],
      "metadata": {
        "id": "W9QVAAHf6syS"
      }
    },
    {
      "cell_type": "code",
      "source": [
        "train = train.drop(columns=[\"Day of the week\",\"Date\"],axis=1)\n",
        "train"
      ],
      "metadata": {
        "execution": {
          "iopub.status.busy": "2024-08-28T09:25:54.665856Z",
          "iopub.execute_input": "2024-08-28T09:25:54.666145Z",
          "iopub.status.idle": "2024-08-28T09:25:54.680538Z",
          "shell.execute_reply.started": "2024-08-28T09:25:54.666118Z",
          "shell.execute_reply": "2024-08-28T09:25:54.679654Z"
        },
        "trusted": true,
        "id": "5tIXOSBK6syS"
      },
      "execution_count": null,
      "outputs": []
    },
    {
      "cell_type": "code",
      "source": [
        "X= train.drop(columns=[\"Traffic Situation\"],axis=1)\n",
        "y= train[\"Traffic Situation\"]"
      ],
      "metadata": {
        "papermill": {
          "duration": 0.053236,
          "end_time": "2023-10-28T07:38:08.392529",
          "exception": false,
          "start_time": "2023-10-28T07:38:08.339293",
          "status": "completed"
        },
        "tags": [],
        "execution": {
          "iopub.status.busy": "2024-08-28T09:25:54.681986Z",
          "iopub.execute_input": "2024-08-28T09:25:54.682311Z",
          "iopub.status.idle": "2024-08-28T09:25:54.690856Z",
          "shell.execute_reply.started": "2024-08-28T09:25:54.682276Z",
          "shell.execute_reply": "2024-08-28T09:25:54.689998Z"
        },
        "trusted": true,
        "id": "TKWqPWiv6syS"
      },
      "execution_count": null,
      "outputs": []
    },
    {
      "cell_type": "code",
      "source": [
        "X_train=X\n",
        "y_train=y\n",
        "\n",
        "from sklearn.preprocessing import StandardScaler\n",
        "StandardScaler = StandardScaler()\n",
        "X_train = StandardScaler.fit_transform(X_train)\n",
        "X_train = pd.DataFrame(X_train)\n",
        "X_train"
      ],
      "metadata": {
        "papermill": {
          "duration": 0.092344,
          "end_time": "2023-10-28T07:38:08.696633",
          "exception": false,
          "start_time": "2023-10-28T07:38:08.604289",
          "status": "completed"
        },
        "tags": [],
        "execution": {
          "iopub.status.busy": "2024-08-28T09:25:54.69197Z",
          "iopub.execute_input": "2024-08-28T09:25:54.692301Z",
          "iopub.status.idle": "2024-08-28T09:25:54.715957Z",
          "shell.execute_reply.started": "2024-08-28T09:25:54.692266Z",
          "shell.execute_reply": "2024-08-28T09:25:54.715096Z"
        },
        "trusted": true,
        "id": "ic3WZRvI6syW"
      },
      "execution_count": null,
      "outputs": []
    },
    {
      "cell_type": "markdown",
      "source": [
        " <h5><span style=\"align:left; color:black; font-weight:550; font-size:110%\">\n",
        "    ➡️  Standardize all features, i.e. Gaussian distribution. The mean of the data is 0 and the variance is 1.The appropriate time to use standardization is when the variance of some features is too large, so that the model can be converged quickly.\n",
        "</span></h5>\n",
        "\n",
        " <h5><span style=\"align:left; color:black; font-weight:550; font-size:110%\">\n",
        "    ➡️  You can also try the other Normization methods. Ex.RobustScaler、MinMaxScaler、Normalizer👍\n",
        "</span></h5>"
      ],
      "metadata": {
        "id": "QwdS4Ktb6syX"
      }
    },
    {
      "cell_type": "markdown",
      "source": [
        "<a id=\"6\"></a>\n",
        "# **<center><span style=\"color:#005dc4;\">Target distribution</span></center>**"
      ],
      "metadata": {
        "papermill": {
          "duration": 0.045865,
          "end_time": "2023-10-28T07:38:10.461582",
          "exception": false,
          "start_time": "2023-10-28T07:38:10.415717",
          "status": "completed"
        },
        "tags": [],
        "id": "KxABeC4a6syX"
      }
    },
    {
      "cell_type": "code",
      "source": [
        "# Compute frequency counts\n",
        "counts = np.bincount(y_train)\n",
        "\n",
        "# Define labels for the plots\n",
        "class_labels = ['1', '2', '3', '4']\n",
        "labels = [class_labels[i] for i in range(len(counts))]\n",
        "\n",
        "# Set Seaborn style\n",
        "sns.set_style(\"whitegrid\")\n",
        "\n",
        "# Create a figure and axis for the subplots\n",
        "fig, axs = plt.subplots(1, 2, figsize=(14, 6))\n",
        "\n",
        "# Pie Chart\n",
        "axs[0].pie(\n",
        "    counts,\n",
        "    labels=labels,\n",
        "    autopct='%1.1f%%',\n",
        "    startangle=90,\n",
        "    colors=sns.color_palette('pastel', len(labels))\n",
        ")\n",
        "centre_circle = plt.Circle((0, 0), 0.70, fc='white')\n",
        "fig.gca().add_artist(centre_circle)\n",
        "axs[0].set_title('Pie Chart of y_train')\n",
        "axs[0].axis('equal')  # Equal aspect ratio ensures that pie is drawn as a circle.\n",
        "\n",
        "# Bar Plot\n",
        "sns.barplot(x=labels, y=counts, palette='pastel', ax=axs[1])\n",
        "axs[1].set_title('Bar Plot of y_train')\n",
        "axs[1].set_xlabel('Category')\n",
        "axs[1].set_ylabel('Count')\n",
        "\n",
        "# Adjust layout\n",
        "plt.tight_layout()\n",
        "\n",
        "# Show the plots\n",
        "plt.show()\n",
        "\n",
        "print(\"Skewness: %f\" % y_train.skew())\n",
        "print(\"Kurtosis: %f\" % y_train.kurt())"
      ],
      "metadata": {
        "execution": {
          "iopub.status.busy": "2024-08-28T09:25:54.71697Z",
          "iopub.execute_input": "2024-08-28T09:25:54.717282Z",
          "iopub.status.idle": "2024-08-28T09:25:55.181587Z",
          "shell.execute_reply.started": "2024-08-28T09:25:54.717254Z",
          "shell.execute_reply": "2024-08-28T09:25:55.180739Z"
        },
        "trusted": true,
        "id": "L2Lt_Cln6syX"
      },
      "execution_count": null,
      "outputs": []
    },
    {
      "cell_type": "markdown",
      "source": [
        "<h5><span style=\"align:left; color:black; font-weight:500; font-size:110%\">\n",
        "    ➡️ Visualizing the distribution of targets.\n",
        "</span></h5>"
      ],
      "metadata": {
        "id": "8HkVgw1A6syX"
      }
    },
    {
      "cell_type": "markdown",
      "source": [
        "<a id=\"7\"></a>\n",
        "# **<center><span style=\"color:#005dc4;\">Split Dataset</span></center>**\n"
      ],
      "metadata": {
        "papermill": {
          "duration": 0.055865,
          "end_time": "2023-10-28T07:38:11.087827",
          "exception": false,
          "start_time": "2023-10-28T07:38:11.031962",
          "status": "completed"
        },
        "tags": [],
        "id": "Su6ck6pe6syX"
      }
    },
    {
      "cell_type": "code",
      "source": [
        "from sklearn.model_selection import train_test_split\n",
        "X_train, X_eval, y_train, y_eval = train_test_split(X_train, y_train,test_size=0.2,random_state=2019)\n",
        "print(\"Shape of X_train: \",X_train.shape)\n",
        "print(\"Shape of X_eval: \", X_eval.shape)\n",
        "print(\"Shape of y_train: \",y_train.shape)\n",
        "print(\"Shape of y_eval\",y_eval.shape)"
      ],
      "metadata": {
        "papermill": {
          "duration": 0.069445,
          "end_time": "2023-10-28T07:38:11.216066",
          "exception": false,
          "start_time": "2023-10-28T07:38:11.146621",
          "status": "completed"
        },
        "tags": [],
        "execution": {
          "iopub.status.busy": "2024-08-28T09:25:55.182606Z",
          "iopub.execute_input": "2024-08-28T09:25:55.182894Z",
          "iopub.status.idle": "2024-08-28T09:25:55.192432Z",
          "shell.execute_reply.started": "2024-08-28T09:25:55.182868Z",
          "shell.execute_reply": "2024-08-28T09:25:55.191492Z"
        },
        "trusted": true,
        "id": "IPG1eoLZ6syX"
      },
      "execution_count": null,
      "outputs": []
    },
    {
      "cell_type": "code",
      "source": [
        "y_train =pd.DataFrame(y_train)\n",
        "y_eval =pd.DataFrame(y_eval)"
      ],
      "metadata": {
        "execution": {
          "iopub.status.busy": "2024-08-28T09:25:55.193612Z",
          "iopub.execute_input": "2024-08-28T09:25:55.193903Z",
          "iopub.status.idle": "2024-08-28T09:25:55.202382Z",
          "shell.execute_reply.started": "2024-08-28T09:25:55.193876Z",
          "shell.execute_reply": "2024-08-28T09:25:55.201579Z"
        },
        "trusted": true,
        "id": "WnD1qikG6syX"
      },
      "execution_count": null,
      "outputs": []
    },
    {
      "cell_type": "markdown",
      "source": [
        "<h5><span style=\"align:left; color:black; font-weight:500; font-size:110%\">\n",
        "    ➡️ Splitting training and evaluation datasets.\n",
        "</span></h5>"
      ],
      "metadata": {
        "id": "0IDkxNua6syX"
      }
    },
    {
      "cell_type": "markdown",
      "source": [
        "<a id=\"8\"></a>\n",
        "# **<center><span style=\"color:#005dc4;\">VotingClassifier</span></center>**"
      ],
      "metadata": {
        "papermill": {
          "duration": 0.047977,
          "end_time": "2023-10-28T07:38:11.318258",
          "exception": false,
          "start_time": "2023-10-28T07:38:11.270281",
          "status": "completed"
        },
        "tags": [],
        "id": "DX5WnMuy6syX"
      }
    },
    {
      "cell_type": "code",
      "source": [
        "from sklearn.neighbors import KNeighborsClassifier\n",
        "from sklearn.linear_model import LogisticRegression,SGDClassifier,RidgeClassifier\n",
        "from sklearn.ensemble import RandomForestClassifier,ExtraTreesClassifier,HistGradientBoostingClassifier,BaggingClassifier\n",
        "from sklearn.ensemble import  AdaBoostClassifier, GradientBoostingClassifier\n",
        "from sklearn.naive_bayes import GaussianNB\n",
        "from sklearn.dummy import DummyClassifier\n",
        "from sklearn.svm import SVC"
      ],
      "metadata": {
        "papermill": {
          "duration": 2.224575,
          "end_time": "2023-10-28T07:38:13.589977",
          "exception": false,
          "start_time": "2023-10-28T07:38:11.365402",
          "status": "completed"
        },
        "tags": [],
        "execution": {
          "iopub.status.busy": "2024-08-28T09:25:55.203504Z",
          "iopub.execute_input": "2024-08-28T09:25:55.203799Z",
          "iopub.status.idle": "2024-08-28T09:25:55.211544Z",
          "shell.execute_reply.started": "2024-08-28T09:25:55.203773Z",
          "shell.execute_reply": "2024-08-28T09:25:55.210751Z"
        },
        "trusted": true,
        "id": "VLc3B2LS6syY"
      },
      "execution_count": null,
      "outputs": []
    },
    {
      "cell_type": "code",
      "source": [
        "from sklearn.ensemble import VotingClassifier\n",
        "clf1 = AdaBoostClassifier()\n",
        "clf2 = SGDClassifier()\n",
        "clf3 = XGBClassifier()\n",
        "clf4 = RandomForestClassifier()\n",
        "clf5 = ExtraTreesClassifier()\n",
        "clf6 = CatBoostClassifier(logging_level='Silent')\n",
        "clf7 = KNeighborsClassifier()\n",
        "clf8 = LogisticRegression()\n",
        "clf9=  RidgeClassifier()\n",
        "clf10= HistGradientBoostingClassifier()\n",
        "clf11= BaggingClassifier()\n",
        "clf12= GradientBoostingClassifier()\n",
        "clf13= GaussianNB()\n",
        "clf14= LGBMClassifier()\n",
        "clf15= DummyClassifier()\n",
        "clf16= SVC()\n",
        "\n",
        "eclf = VotingClassifier(estimators=[('ADA', clf1), ('SGD', clf2), ('XGB', clf3), ('RF', clf4), ('ET', clf5), ('CAT', clf6), ('KN', clf7),\n",
        "                                   ('LG', clf8), ('RC', clf9), ('HBC', clf10), ('BC', clf11), ('GBC', clf12), ('GNB', clf13),\n",
        "                                    ('LGBM', clf14),('DC', clf15),('SVC', clf16)],voting='hard')\n",
        "\n",
        "for clf, label in zip([clf1,clf2,clf3,clf4,clf5,clf6,clf7,clf8,clf9,clf10,clf11,clf12,clf13,clf14,clf15,clf16],\n",
        "                      ['ADA', 'SGD','XGB','RF','ET','CAT','KN','LG','RC','HBC','BC','GBC','GNB','LGBM','DC','SVC']):\n",
        "    scores = cross_val_score(clf, X_train, y_train, scoring='accuracy', cv=5)\n",
        "    print(\"Accuracy: %0.2f (+/- %0.2f) [%s]\" % (scores.mean(), scores.std(), label))"
      ],
      "metadata": {
        "papermill": {
          "duration": 15.775332,
          "end_time": "2023-10-28T07:38:29.516875",
          "exception": false,
          "start_time": "2023-10-28T07:38:13.741543",
          "status": "completed"
        },
        "tags": [],
        "execution": {
          "iopub.status.busy": "2024-08-28T09:25:55.212526Z",
          "iopub.execute_input": "2024-08-28T09:25:55.212865Z",
          "iopub.status.idle": "2024-08-28T09:26:26.554974Z",
          "shell.execute_reply.started": "2024-08-28T09:25:55.21283Z",
          "shell.execute_reply": "2024-08-28T09:26:26.554002Z"
        },
        "trusted": true,
        "id": "PL_cttDl6syY"
      },
      "execution_count": null,
      "outputs": []
    },
    {
      "cell_type": "markdown",
      "source": [
        "<h5><span style=\"align:left; color:black; font-weight:500; font-size:110%\">\n",
        "➡️ Just use the classification model (preset Parm) for testing , and remove some model with the low score .\n",
        "</span></h5>\n",
        "<h5><span style=\"align:left; color:black; font-weight:500; font-size:110%\">\n",
        "➡️remove ADA、SGD、KN、LG、RC、GNB、DC、SVC , you also can remove the ET model , because it don't accuracy 100%.\n",
        "</span></h5>"
      ],
      "metadata": {
        "id": "b_ORxU276syY"
      }
    },
    {
      "cell_type": "markdown",
      "source": [
        "<a id=\"9\"></a>\n",
        "# **<center><span style=\"color:#005dc4;\">StackingClassifier</span></center>**"
      ],
      "metadata": {
        "papermill": {
          "duration": 0.048858,
          "end_time": "2023-10-28T07:38:33.242261",
          "exception": false,
          "start_time": "2023-10-28T07:38:33.193403",
          "status": "completed"
        },
        "tags": [],
        "id": "tFmPC1cc6syY"
      }
    },
    {
      "cell_type": "markdown",
      "source": [
        "<h5><span style=\"align:left; color:black; font-weight:500; font-size:110%\">\n",
        "➡️ I use VotingClassifier to select models and stackingclassifier for final prediction.\n",
        "</span></h5>"
      ],
      "metadata": {
        "id": "TPqkC_BE6syY"
      }
    },
    {
      "cell_type": "code",
      "source": [
        "class StackingAveragedModels(BaseEstimator, ClassifierMixin, TransformerMixin):\n",
        "    def __init__(self, base_models, meta_model, n_folds=5):\n",
        "        self.base_models = base_models\n",
        "        self.meta_model = meta_model\n",
        "        self.n_folds = n_folds\n",
        "\n",
        "    def fit(self, X, y):\n",
        "        self.base_models_ = [list() for x in self.base_models]\n",
        "        self.meta_model_ = clone(self.meta_model)\n",
        "        kfold = KFold(n_splits=self.n_folds, shuffle=True, random_state=156)\n",
        "\n",
        "        # Train cloned base models then create out-of-fold predictions\n",
        "        # that are needed to train the cloned meta-model\n",
        "        out_of_fold_predictions = np.zeros((X.shape[0], len(self.base_models)))\n",
        "        for i, model in enumerate(self.base_models):\n",
        "            for train_index, holdout_index in kfold.split(X, y):\n",
        "                instance = clone(model)\n",
        "                self.base_models_[i].append(instance)\n",
        "                instance.fit(X[train_index], y[train_index])\n",
        "                y_pred = instance.predict(X[holdout_index])\n",
        "                out_of_fold_predictions[holdout_index, i] = y_pred\n",
        "\n",
        "        self.meta_model_.fit(out_of_fold_predictions, y)\n",
        "        return self\n",
        "\n",
        "    def predict(self, X):\n",
        "        meta_features = np.column_stack([\n",
        "            np.column_stack([model.predict(X) for model in base_models]).mean(axis=1)\n",
        "            for base_models in self.base_models_ ])\n",
        "        return self.meta_model_.predict(meta_features)"
      ],
      "metadata": {
        "papermill": {
          "duration": 0.065371,
          "end_time": "2023-10-28T07:38:33.356865",
          "exception": false,
          "start_time": "2023-10-28T07:38:33.291494",
          "status": "completed"
        },
        "tags": [],
        "execution": {
          "iopub.status.busy": "2024-08-28T09:26:26.55651Z",
          "iopub.execute_input": "2024-08-28T09:26:26.556882Z",
          "iopub.status.idle": "2024-08-28T09:26:26.56728Z",
          "shell.execute_reply.started": "2024-08-28T09:26:26.556845Z",
          "shell.execute_reply": "2024-08-28T09:26:26.5663Z"
        },
        "trusted": true,
        "id": "7Q_sZKiN6syY"
      },
      "execution_count": null,
      "outputs": []
    },
    {
      "cell_type": "code",
      "source": [
        "stacked_averaged_models = StackingAveragedModels(base_models = (clf3,clf4,clf5,clf10,clf11,clf12,clf14),meta_model = clf6)"
      ],
      "metadata": {
        "papermill": {
          "duration": 0.058168,
          "end_time": "2023-10-28T07:38:33.464444",
          "exception": false,
          "start_time": "2023-10-28T07:38:33.406276",
          "status": "completed"
        },
        "tags": [],
        "execution": {
          "iopub.status.busy": "2024-08-28T09:26:26.568561Z",
          "iopub.execute_input": "2024-08-28T09:26:26.56892Z",
          "iopub.status.idle": "2024-08-28T09:26:26.579991Z",
          "shell.execute_reply.started": "2024-08-28T09:26:26.568886Z",
          "shell.execute_reply": "2024-08-28T09:26:26.579151Z"
        },
        "trusted": true,
        "id": "4ogaN7xy6syY"
      },
      "execution_count": null,
      "outputs": []
    },
    {
      "cell_type": "markdown",
      "source": [
        "<h5><span style=\"align:left; color:black; font-weight:500; font-size:110%\">\n",
        "➡️ base model : XGB、RF、ET、HBC、BC、GBC、LGBM ; meta model : CAT\n",
        "</span></h5>"
      ],
      "metadata": {
        "id": "TKJvtNf96syY"
      }
    },
    {
      "cell_type": "code",
      "source": [
        "stacking_model=stacked_averaged_models.fit(X_train.values, y_train.values)"
      ],
      "metadata": {
        "papermill": {
          "duration": 3.321487,
          "end_time": "2023-10-28T07:38:36.835623",
          "exception": false,
          "start_time": "2023-10-28T07:38:33.514136",
          "status": "completed"
        },
        "tags": [],
        "execution": {
          "iopub.status.busy": "2024-08-28T09:26:26.581254Z",
          "iopub.execute_input": "2024-08-28T09:26:26.581676Z",
          "iopub.status.idle": "2024-08-28T09:26:43.925455Z",
          "shell.execute_reply.started": "2024-08-28T09:26:26.58161Z",
          "shell.execute_reply": "2024-08-28T09:26:43.924654Z"
        },
        "trusted": true,
        "id": "qpPnvvhJ6syY"
      },
      "execution_count": null,
      "outputs": []
    },
    {
      "cell_type": "code",
      "source": [
        "stacking_model.fit(X_train.values , y_train.values)\n",
        "y_pred_stacking = stacking_model.predict(X_eval.values)\n",
        "stacking_acc = accuracy_score(y_eval.values, y_pred_stacking)\n",
        "print(\"stacking accuracy is: {0:.3f}%\".format(stacking_acc * 100))\n",
        "cm = confusion_matrix(y_eval, y_pred_stacking)\n",
        "plt.figure(figsize=(4, 4))\n",
        "sns.heatmap(cm, annot=True, fmt='.0f')\n",
        "plt.xlabel(\"Predicted Digits\")\n",
        "plt.ylabel(\"True Digits\")\n",
        "plt.show()"
      ],
      "metadata": {
        "papermill": {
          "duration": 3.569428,
          "end_time": "2023-10-28T07:38:40.454418",
          "exception": false,
          "start_time": "2023-10-28T07:38:36.88499",
          "status": "completed"
        },
        "tags": [],
        "execution": {
          "iopub.status.busy": "2024-08-28T09:26:43.926968Z",
          "iopub.execute_input": "2024-08-28T09:26:43.927254Z",
          "iopub.status.idle": "2024-08-28T09:27:01.080484Z",
          "shell.execute_reply.started": "2024-08-28T09:26:43.927228Z",
          "shell.execute_reply": "2024-08-28T09:27:01.079528Z"
        },
        "trusted": true,
        "id": "LJar4Qzr6syY"
      },
      "execution_count": null,
      "outputs": []
    },
    {
      "cell_type": "markdown",
      "source": [
        "<h5><span style=\"align:left; color:black; font-weight:500; font-size:110%\">\n",
        "➡️ We obtained 100% accuracy on the evaluation dataset, but were unsure if there were any simulations that occurred before proceeding to the prediction test set.\n",
        "</span></h5>"
      ],
      "metadata": {
        "id": "J0cXc7Hu6syY"
      }
    },
    {
      "cell_type": "markdown",
      "source": [
        "<a id=\"10\"></a>\n",
        "# **<center><span style=\"color:#005dc4;\">Predict test data</span></center>**"
      ],
      "metadata": {
        "papermill": {
          "duration": 0.050071,
          "end_time": "2023-10-28T07:38:40.555657",
          "exception": false,
          "start_time": "2023-10-28T07:38:40.505586",
          "status": "completed"
        },
        "tags": [],
        "id": "5TdFA90f6syY"
      }
    },
    {
      "cell_type": "code",
      "source": [
        "test = test.reset_index(drop=True)\n",
        "test_temp=test"
      ],
      "metadata": {
        "papermill": {
          "duration": 0.12572,
          "end_time": "2023-10-28T07:38:40.731573",
          "exception": false,
          "start_time": "2023-10-28T07:38:40.605853",
          "status": "completed"
        },
        "tags": [],
        "execution": {
          "iopub.status.busy": "2024-08-28T09:27:01.08174Z",
          "iopub.execute_input": "2024-08-28T09:27:01.082092Z",
          "iopub.status.idle": "2024-08-28T09:27:01.086822Z",
          "shell.execute_reply.started": "2024-08-28T09:27:01.082062Z",
          "shell.execute_reply": "2024-08-28T09:27:01.085912Z"
        },
        "trusted": true,
        "id": "kZVjOfrO6syZ"
      },
      "execution_count": null,
      "outputs": []
    },
    {
      "cell_type": "code",
      "source": [
        "plt.subplot(1, 3, 1)\n",
        "sns.countplot(x = test[\"Day of the week\"])\n",
        "plotter.xticks(rotation = 90);\n",
        "\n",
        "plt.subplot(1, 3, 3)\n",
        "sns.countplot(x = test[\"Traffic Situation\"])\n",
        "plotter.xticks(rotation = 90);\n",
        "plt.show()"
      ],
      "metadata": {
        "execution": {
          "iopub.status.busy": "2024-08-28T09:27:01.088124Z",
          "iopub.execute_input": "2024-08-28T09:27:01.08855Z",
          "iopub.status.idle": "2024-08-28T09:27:01.44783Z",
          "shell.execute_reply.started": "2024-08-28T09:27:01.088516Z",
          "shell.execute_reply": "2024-08-28T09:27:01.446957Z"
        },
        "trusted": true,
        "id": "t9sHKmtF6syZ"
      },
      "execution_count": null,
      "outputs": []
    },
    {
      "cell_type": "code",
      "source": [
        "df_temp=test_temp\n",
        "df_temp['Day of the week'] = df_temp['Day of the week'].replace({'Monday':1,'Tuesday':2,'Wednesday':3,'Thursday':4,'Friday':5,'Saturday': 6,'Sunday':7})\n",
        "df_temp['Traffic Situation'] = df_temp['Traffic Situation'].replace({'low': 0,'normal': 1,'high': 2, 'heavy':3})\n",
        "test_temp=df_temp\n",
        "test_temp"
      ],
      "metadata": {
        "execution": {
          "iopub.status.busy": "2024-08-28T09:27:01.44889Z",
          "iopub.execute_input": "2024-08-28T09:27:01.449145Z",
          "iopub.status.idle": "2024-08-28T09:27:01.46952Z",
          "shell.execute_reply.started": "2024-08-28T09:27:01.44912Z",
          "shell.execute_reply": "2024-08-28T09:27:01.468504Z"
        },
        "trusted": true,
        "id": "tQB4nSQi6syZ"
      },
      "execution_count": null,
      "outputs": []
    },
    {
      "cell_type": "code",
      "source": [
        "test_temp = test_temp.drop(columns=['Traffic Situation'],axis=1)\n",
        "test_temp"
      ],
      "metadata": {
        "papermill": {
          "duration": 0.14854,
          "end_time": "2023-10-28T07:38:40.931953",
          "exception": false,
          "start_time": "2023-10-28T07:38:40.783413",
          "status": "completed"
        },
        "tags": [],
        "execution": {
          "iopub.status.busy": "2024-08-28T09:27:01.470652Z",
          "iopub.execute_input": "2024-08-28T09:27:01.470959Z",
          "iopub.status.idle": "2024-08-28T09:27:01.487155Z",
          "shell.execute_reply.started": "2024-08-28T09:27:01.470934Z",
          "shell.execute_reply": "2024-08-28T09:27:01.48624Z"
        },
        "trusted": true,
        "id": "zQ81yW4i6syZ"
      },
      "execution_count": null,
      "outputs": []
    },
    {
      "cell_type": "code",
      "source": [
        "from sklearn.preprocessing import LabelEncoder\n",
        "le = LabelEncoder()\n",
        "test_temp['Time'] = le.fit_transform(test_temp['Time'])\n",
        "test_temp=test_temp.drop(columns=['Day of the week',\"Date\"],axis=1)\n",
        "test_temp"
      ],
      "metadata": {
        "execution": {
          "iopub.status.busy": "2024-08-28T09:27:01.488422Z",
          "iopub.execute_input": "2024-08-28T09:27:01.48878Z",
          "iopub.status.idle": "2024-08-28T09:27:01.504832Z",
          "shell.execute_reply.started": "2024-08-28T09:27:01.488745Z",
          "shell.execute_reply": "2024-08-28T09:27:01.503953Z"
        },
        "trusted": true,
        "id": "3X_flmiX6syZ"
      },
      "execution_count": null,
      "outputs": []
    },
    {
      "cell_type": "code",
      "source": [
        "test_row = test_temp.shape[0]\n",
        "test_row"
      ],
      "metadata": {
        "papermill": {
          "duration": 0.066046,
          "end_time": "2023-10-28T07:38:41.057614",
          "exception": false,
          "start_time": "2023-10-28T07:38:40.991568",
          "status": "completed"
        },
        "tags": [],
        "execution": {
          "iopub.status.busy": "2024-08-28T09:27:01.50608Z",
          "iopub.execute_input": "2024-08-28T09:27:01.506676Z",
          "iopub.status.idle": "2024-08-28T09:27:01.514997Z",
          "shell.execute_reply.started": "2024-08-28T09:27:01.506643Z",
          "shell.execute_reply": "2024-08-28T09:27:01.514062Z"
        },
        "trusted": true,
        "id": "A6jlFK3R6syZ"
      },
      "execution_count": null,
      "outputs": []
    },
    {
      "cell_type": "code",
      "source": [
        "import_train = X.reset_index(drop=True)\n",
        "import_train"
      ],
      "metadata": {
        "execution": {
          "iopub.status.busy": "2024-08-28T09:27:01.516194Z",
          "iopub.execute_input": "2024-08-28T09:27:01.516521Z",
          "iopub.status.idle": "2024-08-28T09:27:01.531478Z",
          "shell.execute_reply.started": "2024-08-28T09:27:01.516488Z",
          "shell.execute_reply": "2024-08-28T09:27:01.530683Z"
        },
        "trusted": true,
        "id": "QsUp8QGz6syZ"
      },
      "execution_count": null,
      "outputs": []
    },
    {
      "cell_type": "code",
      "source": [
        "Row_Number=test_row\n",
        "X_test_target1_df=import_train._append(test_temp,ignore_index=True)\n",
        "\n",
        "from sklearn.preprocessing import StandardScaler\n",
        "StandardScaler = StandardScaler()\n",
        "X_test_target1_df = StandardScaler.fit_transform(X_test_target1_df)\n",
        "test_pred_target0= pd.DataFrame(X_test_target1_df)\n",
        "test_pred_target0 = pd.DataFrame(test_pred_target0).tail(Row_Number)#tail:抓取後面資料\n",
        "test_pred_target0 = test_pred_target0.reset_index(drop=True)\n",
        "test_pred_target0"
      ],
      "metadata": {
        "papermill": {
          "duration": 0.126046,
          "end_time": "2023-10-28T07:38:41.398661",
          "exception": false,
          "start_time": "2023-10-28T07:38:41.272615",
          "status": "completed"
        },
        "tags": [],
        "execution": {
          "iopub.status.busy": "2024-08-28T09:27:01.532458Z",
          "iopub.execute_input": "2024-08-28T09:27:01.532748Z",
          "iopub.status.idle": "2024-08-28T09:27:01.555347Z",
          "shell.execute_reply.started": "2024-08-28T09:27:01.532717Z",
          "shell.execute_reply": "2024-08-28T09:27:01.554495Z"
        },
        "trusted": true,
        "id": "pFif-I0U6syZ"
      },
      "execution_count": null,
      "outputs": []
    },
    {
      "cell_type": "code",
      "source": [
        "test_pred_target0.isnull().sum()"
      ],
      "metadata": {
        "papermill": {
          "duration": 0.069382,
          "end_time": "2023-10-28T07:38:41.52597",
          "exception": false,
          "start_time": "2023-10-28T07:38:41.456588",
          "status": "completed"
        },
        "tags": [],
        "execution": {
          "iopub.status.busy": "2024-08-28T09:27:01.556396Z",
          "iopub.execute_input": "2024-08-28T09:27:01.556667Z",
          "iopub.status.idle": "2024-08-28T09:27:01.565481Z",
          "shell.execute_reply.started": "2024-08-28T09:27:01.556641Z",
          "shell.execute_reply": "2024-08-28T09:27:01.564736Z"
        },
        "trusted": true,
        "id": "a3vYFu-O6syZ"
      },
      "execution_count": null,
      "outputs": []
    },
    {
      "cell_type": "code",
      "source": [
        "Stacking_predict=stacking_model.predict(test_pred_target0.values)"
      ],
      "metadata": {
        "papermill": {
          "duration": 0.320242,
          "end_time": "2023-10-28T07:38:41.902682",
          "exception": false,
          "start_time": "2023-10-28T07:38:41.58244",
          "status": "completed"
        },
        "tags": [],
        "execution": {
          "iopub.status.busy": "2024-08-28T09:27:01.566747Z",
          "iopub.execute_input": "2024-08-28T09:27:01.567729Z",
          "iopub.status.idle": "2024-08-28T09:27:01.78685Z",
          "shell.execute_reply.started": "2024-08-28T09:27:01.56767Z",
          "shell.execute_reply": "2024-08-28T09:27:01.786025Z"
        },
        "trusted": true,
        "id": "_lPO7Rg36syZ"
      },
      "execution_count": null,
      "outputs": []
    },
    {
      "cell_type": "code",
      "source": [
        "#DataFrame\n",
        "Stacking_predict_df=pd.DataFrame(Stacking_predict)\n",
        "\n",
        "#rename lable\n",
        "Stacking_predict_df=Stacking_predict_df.set_axis(axis=1,labels=['Stack_pred'])\n",
        "\n",
        "#merge predict\n",
        "test_pred=test.merge(Stacking_predict_df,how='inner',left_index=True,right_index=True)\n",
        "test_pred"
      ],
      "metadata": {
        "papermill": {
          "duration": 0.179737,
          "end_time": "2023-10-28T07:38:42.139462",
          "exception": false,
          "start_time": "2023-10-28T07:38:41.959725",
          "status": "completed"
        },
        "tags": [],
        "execution": {
          "iopub.status.busy": "2024-08-28T09:27:01.787989Z",
          "iopub.execute_input": "2024-08-28T09:27:01.78833Z",
          "iopub.status.idle": "2024-08-28T09:27:01.808471Z",
          "shell.execute_reply.started": "2024-08-28T09:27:01.788304Z",
          "shell.execute_reply": "2024-08-28T09:27:01.807645Z"
        },
        "trusted": true,
        "id": "GJFat76Z6syZ"
      },
      "execution_count": null,
      "outputs": []
    },
    {
      "cell_type": "markdown",
      "source": [
        "<a id=\"11\"></a>\n",
        "# **<center><span style=\"color:#005dc4;\">Accuracy</span></center>**"
      ],
      "metadata": {
        "papermill": {
          "duration": 0.059495,
          "end_time": "2023-10-28T07:38:42.396308",
          "exception": false,
          "start_time": "2023-10-28T07:38:42.336813",
          "status": "completed"
        },
        "tags": [],
        "id": "MW8a1DJJ6syZ"
      }
    },
    {
      "cell_type": "code",
      "source": [
        "stacking_acc = accuracy_score(test_pred['Traffic Situation'], test_pred['Stack_pred'])\n",
        "print(\"stacking accuracy is: {0:.3f}%\".format(stacking_acc * 100))\n",
        "cm = confusion_matrix(test_pred['Traffic Situation'], test_pred['Stack_pred'])\n",
        "plt.figure(figsize=(4, 4))\n",
        "sns.heatmap(cm, annot=True, fmt='.0f')\n",
        "plt.xlabel(\"Predicted Digits\")\n",
        "plt.ylabel(\"True Digits\")\n",
        "plt.show()"
      ],
      "metadata": {
        "execution": {
          "iopub.status.busy": "2024-08-28T09:27:01.809644Z",
          "iopub.execute_input": "2024-08-28T09:27:01.809946Z",
          "iopub.status.idle": "2024-08-28T09:27:02.167844Z",
          "shell.execute_reply.started": "2024-08-28T09:27:01.80992Z",
          "shell.execute_reply": "2024-08-28T09:27:02.166957Z"
        },
        "trusted": true,
        "id": "79vfxkRk6syZ"
      },
      "execution_count": null,
      "outputs": []
    },
    {
      "cell_type": "markdown",
      "source": [
        "<h5><span style=\"align:left; color:black; font-weight:500; font-size:110%\">\n",
        "➡️ It's great. We obtained 100% accuracy on the evaluation test set.\n",
        "</span></h5>"
      ],
      "metadata": {
        "id": "IZxAf_PO6syZ"
      }
    },
    {
      "cell_type": "markdown",
      "source": [
        "<div style=\"border-radius:10px; padding: 15px; background-color:navy\">\n",
        "<h4 align=\"center\"><span style=\"font-weight:1000; font-size:400%; text-shadow:3px 3px 20px #add8e6\"><font color=#ffffff>Thanks & Upvote❤️</font></span></h4>"
      ],
      "metadata": {
        "papermill": {
          "duration": 0.063701,
          "end_time": "2023-10-28T07:38:42.824887",
          "exception": false,
          "start_time": "2023-10-28T07:38:42.761186",
          "status": "completed"
        },
        "tags": [],
        "id": "NPVcaLDD6sya"
      }
    }
  ]
}